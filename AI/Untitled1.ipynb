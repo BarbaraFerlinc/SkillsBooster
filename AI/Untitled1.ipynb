{
 "cells": [
  {
   "cell_type": "code",
   "execution_count": 1,
   "id": "b973489f-0d12-4f38-b5f4-a45a2b44f6d1",
   "metadata": {},
   "outputs": [
    {
     "name": "stdin",
     "output_type": "stream",
     "text": [
      "Vnesi dokument (pot):  \"C:\\Users\\jasar\\Downloads\\wiz.txt\"\n",
      "Vnesi dokument (pot):  /\n"
     ]
    },
    {
     "name": "stdout",
     "output_type": "stream",
     "text": [
      "Pot: C:\\Users\\jasar\\Downloads\\wiz.txt, Vsebina: \n",
      "\n",
      "*** START OF THE PROJECT GUTENBERG EBOOK THE WONDERFUL WIZARD OF OZ ***\n",
      "\n",
      "[Illustration]\n",
      "\n",
      "\n",
      "\n",
      "\n",
      "The Wonderful Wizard of Oz\n",
      "\n",
      "by L. Frank Baum\n",
      "\n",
      "\n",
      "This book is dedicated to my good friend & comrade\n",
      "My Wife\n",
      "...\n"
     ]
    }
   ],
   "source": [
    "import os\n",
    "import PyPDF2\n",
    "\n",
    "# Knjižnice za branje datotek\n",
    "import textract\n",
    "\n",
    "# Seznam za shranjevanje poti in vsebine dokumentov\n",
    "documents = []\n",
    "\n",
    "# Glavna zanka\n",
    "mam_vse = True\n",
    "while mam_vse:\n",
    "    nov = input(\"Vnesi dokument (pot): \").strip().strip('\"')  # Odstrani presledke in dvojne narekovaje na začetku/koncu\n",
    "    if nov == \"/\":\n",
    "        mam_vse = False\n",
    "    else:\n",
    "        nov = os.path.normpath(nov)  # Normalizacija poti\n",
    "        if os.path.exists(nov):  # Preveri, če datoteka obstaja\n",
    "            try:\n",
    "                # Preberi vsebino dokumenta glede na tip datoteke\n",
    "                if nov.lower().endswith('.pdf'):\n",
    "                    # Primer branja PDF datoteke\n",
    "                    with open(nov, \"rb\") as file:\n",
    "                        reader = PyPDF2.PdfReader(file)\n",
    "                        text = \"\".join([page.extract_text() for page in reader.pages])\n",
    "                elif nov.lower().endswith('.txt'):\n",
    "                    # Branje tekstovne datoteke z obravnavanjem kodnih napak\n",
    "                    with open(nov, \"r\", encoding='utf-8', errors='replace') as file:\n",
    "                        text = file.read()\n",
    "                elif nov.lower().endswith(('.docx', '.doc')):\n",
    "                    # Primer branja Word dokumentov\n",
    "                    text = textract.process(nov).decode('utf-8')\n",
    "                else:\n",
    "                    text = \"Nepodprt format datoteke\"\n",
    "                \n",
    "                # Dodaj pot in vsebino v seznam\n",
    "                documents.append((nov, text))\n",
    "            except Exception as e:\n",
    "                print(f\"Napaka pri branju datoteke {nov}: {e}\")\n",
    "        else:\n",
    "            print(\"Datoteka ne obstaja\")\n",
    "\n",
    "# Izpis vsebine dokumentov\n",
    "for path, content in documents:\n",
    "    print(f\"Pot: {path}, Vsebina: {content[:200]}...\")  # Izpis prvih 200 znakov vsebine\n"
   ]
  },
  {
   "cell_type": "code",
   "execution_count": null,
   "id": "c5bb9d2e-7438-4fea-a8a5-ffc04ad32e07",
   "metadata": {},
   "outputs": [],
   "source": []
  }
 ],
 "metadata": {
  "kernelspec": {
   "display_name": "cuda-gpt",
   "language": "python",
   "name": "cuda"
  },
  "language_info": {
   "codemirror_mode": {
    "name": "ipython",
    "version": 3
   },
   "file_extension": ".py",
   "mimetype": "text/x-python",
   "name": "python",
   "nbconvert_exporter": "python",
   "pygments_lexer": "ipython3",
   "version": "3.11.5"
  }
 },
 "nbformat": 4,
 "nbformat_minor": 5
}
