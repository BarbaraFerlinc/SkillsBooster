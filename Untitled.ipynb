{
 "cells": [
  {
   "cell_type": "code",
   "execution_count": 1,
   "id": "ecf79bcd-8eb0-4cbe-8f43-a44dc3ed9e52",
   "metadata": {},
   "outputs": [
    {
     "name": "stdout",
     "output_type": "stream",
     "text": [
      "Requirement already satisfied: gradientai in c:\\users\\jasar\\desktop\\prakt_llm\\cuda\\lib\\site-packages (1.12.1)\n",
      "Requirement already satisfied: aenum>=3.1.11 in c:\\users\\jasar\\desktop\\prakt_llm\\cuda\\lib\\site-packages (from gradientai) (3.1.15)\n",
      "Requirement already satisfied: pydantic<2.0.0,>=1.10.5 in c:\\users\\jasar\\desktop\\prakt_llm\\cuda\\lib\\site-packages (from gradientai) (1.10.15)\n",
      "Requirement already satisfied: python-dateutil>=2.8.2 in c:\\users\\jasar\\desktop\\prakt_llm\\cuda\\lib\\site-packages (from gradientai) (2.9.0.post0)\n",
      "Requirement already satisfied: urllib3>=1.25.3 in c:\\users\\jasar\\desktop\\prakt_llm\\cuda\\lib\\site-packages (from gradientai) (2.2.1)\n",
      "Requirement already satisfied: typing-extensions>=4.2.0 in c:\\users\\jasar\\desktop\\prakt_llm\\cuda\\lib\\site-packages (from pydantic<2.0.0,>=1.10.5->gradientai) (4.11.0)\n",
      "Requirement already satisfied: six>=1.5 in c:\\users\\jasar\\desktop\\prakt_llm\\cuda\\lib\\site-packages (from python-dateutil>=2.8.2->gradientai) (1.16.0)\n"
     ]
    },
    {
     "name": "stderr",
     "output_type": "stream",
     "text": [
      "\n",
      "[notice] A new release of pip is available: 23.2.1 -> 24.0\n",
      "[notice] To update, run: python.exe -m pip install --upgrade pip\n"
     ]
    }
   ],
   "source": [
    "!pip install gradientai --upgrade"
   ]
  },
  {
   "cell_type": "code",
   "execution_count": 2,
   "id": "3fd7a3e4-2932-4948-a6d6-67e06f6142f4",
   "metadata": {},
   "outputs": [],
   "source": [
    "import os\n",
    "os.environ['GRADIENT_ACCESS_TOKEN'] = \"zHkm0nTvAVXsUobrgw4UelOfRQsKRCl2\"\n",
    "os.environ['GRADIENT_WORKSPACE_ID'] = \"86abdbb7-ca5f-4f71-9882-01970e111de7_workspace\""
   ]
  },
  {
   "cell_type": "code",
   "execution_count": 8,
   "id": "9ba867e2-86ab-4200-911f-a77e3228366a",
   "metadata": {},
   "outputs": [
    {
     "name": "stdout",
     "output_type": "stream",
     "text": [
      "Created model adapter with id 8672b8f2-f651-47d3-902a-698988f33a2f_model_adapter\n",
      "Asking: ### Instruction: Who is Dorothy? \n",
      "\n",
      "### Response:\n",
      "Generated (before fine-tune):  Dorothy is a fictional character and the protagonist of the classic novel \"The Wizard of Oz\" by L. Frank Baum. She is a young girl from Kansas who is transported to the Land of Oz by a tornado and embarks on a journey to find her way home with the help of her new friends, including a scarecrow, a tin man, and a cowardly lion. Along the way, she meets the Wizard of\n",
      "Fine-tuning the model, iteration 1\n",
      "Fine-tuning the model, iteration 2\n",
      "Fine-tuning the model, iteration 3\n",
      "Generated (after fine-tune):  Dorothy Gale is a main character in L. Frank Baum's\n",
      "classic children's novel \"The Wonderful Wizard of Oz\".\n"
     ]
    }
   ],
   "source": [
    "from gradientai import Gradient\n",
    "\n",
    "def main():\n",
    "  with Gradient() as gradient:\n",
    "      base_model = gradient.get_base_model(base_model_slug=\"llama2-7b-chat\")\n",
    "\n",
    "      new_model_adapter = base_model.create_model_adapter(\n",
    "          name=\"nadgrajen\"\n",
    "      )\n",
    "      print(f\"Created model adapter with id {new_model_adapter.id}\")\n",
    "      sample_query = \"### Instruction: Who is Dorothy? \\n\\n### Response:\"\n",
    "      print(f\"Asking: {sample_query}\")\n",
    "\n",
    "      # before fine-tuning\n",
    "      completion = new_model_adapter.complete(query=sample_query, max_generated_token_count=100).generated_output\n",
    "      print(f\"Generated (before fine-tune): {completion}\")\n",
    "\n",
    "      samples = [\n",
    "    {\n",
    "        \"inputs\": \"\"\"\n",
    "            ### Instruction: Who is Dorothy Gale?\n",
    "            #### Response: Dorothy Gale is a fictional character and the main protagonist in L. Frank Baum's\n",
    "classic children's novel \"The Wonderful Wizard of Oz\".\n",
    "        \"\"\",\n",
    "    },\n",
    "    {\n",
    "        \"inputs\": \"\"\"\n",
    "            ### Instruction: What is the name of the Wicked Witch?\n",
    "            #### Response: The Wicked Witch of the West is the primary antagonist in L. Frank Baum's classic\n",
    "children's novel \"The Wonderful Wizard of Oz\".\n",
    "        \"\"\",\n",
    "    },\n",
    "    {\n",
    "        \"inputs\": \"\"\"\n",
    "            ### Instruction: Who is the Tin Man?\n",
    "            #### Response: The Tin Woodman, also known as the Tin Man, is a main character in L. Frank Baum's\n",
    "classic children's novel \"The Wonderful Wizard of Oz\".\n",
    "        \"\"\",\n",
    "    },\n",
    "    {\n",
    "        \"inputs\": \"\"\"\n",
    "            ### Instruction: What is the name of Dorothy's dog?\n",
    "            #### Response: Toto is Dorothy Gale's pet dog in L. Frank Baum's classic children's novel \"The\n",
    "Wonderful Wizard of Oz\".\n",
    "        \"\"\",\n",
    "    },\n",
    "    {\n",
    "        \"inputs\": \"\"\"\n",
    "            ### Instruction: Who is Scarecrow?\n",
    "            #### Response: The Scarecrow, also known as the Straw Man, is a main character in L. Frank Baum's\n",
    "classic children's novel \"The Wonderful Wizard of Oz\".\n",
    "        \"\"\",\n",
    "    },\n",
    "    {\n",
    "        \"inputs\": \"\"\"\n",
    "            ### Instruction: What is the name of the city where Dorothy starts her journey?\n",
    "            #### Response: Kansas is the state and Topeka is the city where Dorothy Gale starts her journey in L.\n",
    "Frank Baum's classic children's novel \"The Wonderful Wizard of Oz\".\n",
    "        \"\"\",\n",
    "    },\n",
    "]\n",
    "\n",
    "      # this is where fine-tuning happens\n",
    "      # num_epochs is the number of times you fine-tune the model\n",
    "      # more epochs tends to get better results, but you also run the risk of \"overfitting\"\n",
    "      # play around with this number to find what works best for you\n",
    "      num_epochs = 3\n",
    "      count = 0\n",
    "      while count < num_epochs:\n",
    "          print(f\"Fine-tuning the model, iteration {count + 1}\")\n",
    "          new_model_adapter.fine_tune(samples=samples)\n",
    "          count = count + 1\n",
    "\n",
    "      # after fine-tuning\n",
    "      completion = new_model_adapter.complete(query=sample_query, max_generated_token_count=100).generated_output\n",
    "      print(f\"Generated (after fine-tune): {completion}\")\n",
    "\n",
    "      #new_model_adapter.delete()\n",
    "\n",
    "if __name__ == \"__main__\":\n",
    "    main()"
   ]
  },
  {
   "cell_type": "code",
   "execution_count": 9,
   "id": "583e2ae6-aab4-4fc1-8f57-6fd906647e43",
   "metadata": {},
   "outputs": [
    {
     "ename": "NameError",
     "evalue": "name 'new_model_adapter' is not defined",
     "output_type": "error",
     "traceback": [
      "\u001b[1;31m---------------------------------------------------------------------------\u001b[0m",
      "\u001b[1;31mNameError\u001b[0m                                 Traceback (most recent call last)",
      "Cell \u001b[1;32mIn[9], line 1\u001b[0m\n\u001b[1;32m----> 1\u001b[0m \u001b[43mnew_model_adapter\u001b[49m\u001b[38;5;241m.\u001b[39mcomplete(query\u001b[38;5;241m=\u001b[39msample_query, max_generated_token_count\u001b[38;5;241m=\u001b[39m\u001b[38;5;241m100\u001b[39m)\u001b[38;5;241m.\u001b[39mgenerated_output\n\u001b[0;32m      2\u001b[0m \u001b[38;5;28mprint\u001b[39m(\u001b[38;5;124mf\u001b[39m\u001b[38;5;124m\"\u001b[39m\u001b[38;5;124mGenerated (after fine-tune): \u001b[39m\u001b[38;5;132;01m{\u001b[39;00mcompletion\u001b[38;5;132;01m}\u001b[39;00m\u001b[38;5;124m\"\u001b[39m)\n",
      "\u001b[1;31mNameError\u001b[0m: name 'new_model_adapter' is not defined"
     ]
    }
   ],
   "source": []
  },
  {
   "cell_type": "code",
   "execution_count": null,
   "id": "88777332-8272-4720-94e5-1bdb8480432e",
   "metadata": {},
   "outputs": [],
   "source": []
  }
 ],
 "metadata": {
  "kernelspec": {
   "display_name": "cuda-gpt",
   "language": "python",
   "name": "cuda"
  },
  "language_info": {
   "codemirror_mode": {
    "name": "ipython",
    "version": 3
   },
   "file_extension": ".py",
   "mimetype": "text/x-python",
   "name": "python",
   "nbconvert_exporter": "python",
   "pygments_lexer": "ipython3",
   "version": "3.11.5"
  }
 },
 "nbformat": 4,
 "nbformat_minor": 5
}
